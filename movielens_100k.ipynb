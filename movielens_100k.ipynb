{
 "nbformat": 4,
 "nbformat_minor": 2,
 "metadata": {
  "language_info": {
   "name": "python",
   "codemirror_mode": {
    "name": "ipython",
    "version": 3
   },
   "version": "3.7.6-final"
  },
  "orig_nbformat": 2,
  "file_extension": ".py",
  "mimetype": "text/x-python",
  "name": "python",
  "npconvert_exporter": "python",
  "pygments_lexer": "ipython3",
  "version": 3,
  "kernelspec": {
   "name": "python37664bitfc76f8d388764e2f87f6147686064c95",
   "display_name": "Python 3.7.6 64-bit"
  }
 },
 "cells": [
  {
   "cell_type": "markdown",
   "metadata": {},
   "source": [
    "# Colaborative Filtering\n",
    "\n",
    "\n",
    "https://grouplens.org/datasets/movielens/100k/\n",
    "\n",
    "MovieLens data sets were collected by the GroupLens Research Project\n",
    "at the University of Minnesota.\n",
    "\n",
    "This data set consists of:\n",
    "* 100,000 ratings (1-5) from 943 users on 1682 movies.\n",
    "* Each user has rated at least 20 movies.\n",
    "* Simple demographic info for the users (age, gender, occupation, zip)\n",
    "\n",
    "The data was collected through the MovieLens web site\n",
    "(movielens.umn.edu) during the seven-month period from September 19th,\n",
    "1997 through April 22nd, 1998. This data has been cleaned up - users\n",
    "who had less than 20 ratings or did not have complete demographic\n",
    "information were removed from this data set. Detailed descriptions of\n",
    "the data file can be found at the end of this file.\n",
    "\n",
    "source: http://files.grouplens.org/datasets/movielens/ml-100k-README.txt\n",
    "\n",
    "Memory-Based Collaborative Filtering approaches can be divided into two main sections: user-item filtering and item-item filtering. A user-item filtering takes a particular user, find users that are similar to that user based on similarity of ratings, and recommend items that those similar users liked. In contrast, item-item filtering will take an item, find users who liked that item, and find other items that those users or similar users also liked. It takes items and outputs other items as recommendations.\n",
    "Item-Item Collaborative Filtering: “Users who liked this item also liked …”\n",
    "User-Item Collaborative Filtering: “Users who are similar to you also liked …”\n",
    "\n",
    "source: https://blog.cambridgespark.com/nowadays-recommender-systems-are-used-to-personalize-your-experience-on-the-web-telling-you-what-120f39b89c3c\n"
   ]
  },
  {
   "cell_type": "code",
   "execution_count": 33,
   "metadata": {},
   "outputs": [],
   "source": [
    "import pandas as pd\n",
    "\n",
    "from hashlib import md5\n",
    "from zipfile import ZipFile\n",
    "import urllib.request\n",
    "import os\n",
    "\n",
    "data_attributes=[\"user_id\",\"item_id\",\"rating\",\"timestamp\"]\n",
    "\n",
    "def get_content_file(url):\n",
    "    h = md5(url.encode()).hexdigest()\n",
    "    path = \".tmp/\" + h\n",
    "    file_path = path + \"/data.zip\"\n",
    "    if not os.path.exists(file_path):\n",
    "        if not os.path.exists(path):\n",
    "            os.makedirs(path)\n",
    "        urllib.request.urlretrieve(url, file_path)\n",
    "    return file_path\n",
    "\n",
    "file_path = get_content_file(\"http://files.grouplens.org/datasets/movielens/ml-1m.zip\")\n",
    "with ZipFile(file_path).open(\"ml-1m/ratings.dat\") as decompressed_file:\n",
    "    df_1m = pd.read_csv(\n",
    "        decompressed_file,\n",
    "        names=data_attributes,\n",
    "        sep=\"::\"\n",
    "    )\n",
    "\n",
    "file_path = get_content_file(\"http://files.grouplens.org/datasets/movielens/ml-100k.zip\")\n",
    "with ZipFile(file_path).open(\"ml-100k/u.data\") as decompressed_file:\n",
    "    df_100k = pd.read_csv(\n",
    "        decompressed_file,\n",
    "        names=data_attributes,\n",
    "        sep=\"\\t\"\n",
    "    )"
   ]
  },
  {
   "cell_type": "code",
   "execution_count": 34,
   "metadata": {},
   "outputs": [
    {
     "output_type": "execute_result",
     "data": {
      "text/plain": "         user_id  item_id  rating  timestamp\n0              1     1193       5  978300760\n1              1      661       3  978302109\n2              1      914       3  978301968\n3              1     3408       4  978300275\n4              1     2355       5  978824291\n...          ...      ...     ...        ...\n1000204     6040     1091       1  956716541\n1000205     6040     1094       5  956704887\n1000206     6040      562       5  956704746\n1000207     6040     1096       4  956715648\n1000208     6040     1097       4  956715569\n\n[1000209 rows x 4 columns]",
      "text/html": "<div>\n<style scoped>\n    .dataframe tbody tr th:only-of-type {\n        vertical-align: middle;\n    }\n\n    .dataframe tbody tr th {\n        vertical-align: top;\n    }\n\n    .dataframe thead th {\n        text-align: right;\n    }\n</style>\n<table border=\"1\" class=\"dataframe\">\n  <thead>\n    <tr style=\"text-align: right;\">\n      <th></th>\n      <th>user_id</th>\n      <th>item_id</th>\n      <th>rating</th>\n      <th>timestamp</th>\n    </tr>\n  </thead>\n  <tbody>\n    <tr>\n      <th>0</th>\n      <td>1</td>\n      <td>1193</td>\n      <td>5</td>\n      <td>978300760</td>\n    </tr>\n    <tr>\n      <th>1</th>\n      <td>1</td>\n      <td>661</td>\n      <td>3</td>\n      <td>978302109</td>\n    </tr>\n    <tr>\n      <th>2</th>\n      <td>1</td>\n      <td>914</td>\n      <td>3</td>\n      <td>978301968</td>\n    </tr>\n    <tr>\n      <th>3</th>\n      <td>1</td>\n      <td>3408</td>\n      <td>4</td>\n      <td>978300275</td>\n    </tr>\n    <tr>\n      <th>4</th>\n      <td>1</td>\n      <td>2355</td>\n      <td>5</td>\n      <td>978824291</td>\n    </tr>\n    <tr>\n      <th>...</th>\n      <td>...</td>\n      <td>...</td>\n      <td>...</td>\n      <td>...</td>\n    </tr>\n    <tr>\n      <th>1000204</th>\n      <td>6040</td>\n      <td>1091</td>\n      <td>1</td>\n      <td>956716541</td>\n    </tr>\n    <tr>\n      <th>1000205</th>\n      <td>6040</td>\n      <td>1094</td>\n      <td>5</td>\n      <td>956704887</td>\n    </tr>\n    <tr>\n      <th>1000206</th>\n      <td>6040</td>\n      <td>562</td>\n      <td>5</td>\n      <td>956704746</td>\n    </tr>\n    <tr>\n      <th>1000207</th>\n      <td>6040</td>\n      <td>1096</td>\n      <td>4</td>\n      <td>956715648</td>\n    </tr>\n    <tr>\n      <th>1000208</th>\n      <td>6040</td>\n      <td>1097</td>\n      <td>4</td>\n      <td>956715569</td>\n    </tr>\n  </tbody>\n</table>\n<p>1000209 rows × 4 columns</p>\n</div>"
     },
     "metadata": {},
     "execution_count": 34
    }
   ],
   "source": [
    "import pandas as pd\n",
    "import numpy as np\n",
    "\n",
    "df = df_1m\n",
    "df"
   ]
  },
  {
   "cell_type": "code",
   "execution_count": 35,
   "metadata": {},
   "outputs": [
    {
     "output_type": "execute_result",
     "data": {
      "text/plain": "{'n_users': 6040, 'n_items': 3706}"
     },
     "metadata": {},
     "execution_count": 35
    }
   ],
   "source": [
    "info = { \n",
    "    \"n_users\": df.user_id.unique().shape[0],\n",
    "    \"n_items\": df.item_id.unique().shape[0]\n",
    "}\n",
    "info"
   ]
  },
  {
   "cell_type": "code",
   "execution_count": 36,
   "metadata": {},
   "outputs": [
    {
     "output_type": "execute_result",
     "data": {
      "text/plain": "        user_id  item_id  rating  timestamp\n155263     1001     2624       5  976298903\n465300     2869     2971       5  972439495\n188272     1168     3328       5  974932080\n320026     1899     1127       3  974777304\n816849     4904     1224       5  962684525\n...         ...      ...     ...        ...\n927236     5604     2989       3  960255912\n995175     6010     1591       4  956860661\n997160     6021     3107       3  956756924\n392244     2304     1371       4  974496110\n624086     3774      110       5  966041246\n\n[800167 rows x 4 columns]",
      "text/html": "<div>\n<style scoped>\n    .dataframe tbody tr th:only-of-type {\n        vertical-align: middle;\n    }\n\n    .dataframe tbody tr th {\n        vertical-align: top;\n    }\n\n    .dataframe thead th {\n        text-align: right;\n    }\n</style>\n<table border=\"1\" class=\"dataframe\">\n  <thead>\n    <tr style=\"text-align: right;\">\n      <th></th>\n      <th>user_id</th>\n      <th>item_id</th>\n      <th>rating</th>\n      <th>timestamp</th>\n    </tr>\n  </thead>\n  <tbody>\n    <tr>\n      <th>155263</th>\n      <td>1001</td>\n      <td>2624</td>\n      <td>5</td>\n      <td>976298903</td>\n    </tr>\n    <tr>\n      <th>465300</th>\n      <td>2869</td>\n      <td>2971</td>\n      <td>5</td>\n      <td>972439495</td>\n    </tr>\n    <tr>\n      <th>188272</th>\n      <td>1168</td>\n      <td>3328</td>\n      <td>5</td>\n      <td>974932080</td>\n    </tr>\n    <tr>\n      <th>320026</th>\n      <td>1899</td>\n      <td>1127</td>\n      <td>3</td>\n      <td>974777304</td>\n    </tr>\n    <tr>\n      <th>816849</th>\n      <td>4904</td>\n      <td>1224</td>\n      <td>5</td>\n      <td>962684525</td>\n    </tr>\n    <tr>\n      <th>...</th>\n      <td>...</td>\n      <td>...</td>\n      <td>...</td>\n      <td>...</td>\n    </tr>\n    <tr>\n      <th>927236</th>\n      <td>5604</td>\n      <td>2989</td>\n      <td>3</td>\n      <td>960255912</td>\n    </tr>\n    <tr>\n      <th>995175</th>\n      <td>6010</td>\n      <td>1591</td>\n      <td>4</td>\n      <td>956860661</td>\n    </tr>\n    <tr>\n      <th>997160</th>\n      <td>6021</td>\n      <td>3107</td>\n      <td>3</td>\n      <td>956756924</td>\n    </tr>\n    <tr>\n      <th>392244</th>\n      <td>2304</td>\n      <td>1371</td>\n      <td>4</td>\n      <td>974496110</td>\n    </tr>\n    <tr>\n      <th>624086</th>\n      <td>3774</td>\n      <td>110</td>\n      <td>5</td>\n      <td>966041246</td>\n    </tr>\n  </tbody>\n</table>\n<p>800167 rows × 4 columns</p>\n</div>"
     },
     "metadata": {},
     "execution_count": 36
    }
   ],
   "source": [
    "from sklearn.model_selection import train_test_split\n",
    "train_data, test_data = train_test_split(df, test_size=0.2)\n",
    "train_data"
   ]
  },
  {
   "cell_type": "code",
   "execution_count": 38,
   "metadata": {},
   "outputs": [
    {
     "output_type": "execute_result",
     "data": {
      "text/plain": "((6040, 3706), (6040, 3706))"
     },
     "metadata": {},
     "execution_count": 38
    }
   ],
   "source": [
    "# create user-item matrix as pivot table\n",
    "train_data_pivot = train_data.pivot_table(index='user_id', columns='item_id', values='rating', fill_value=0)\\\n",
    "    .reindex(sorted(df.user_id.unique()), axis=0, fill_value=0)\\\n",
    "    .reindex(sorted(df.item_id.unique()), axis=1, fill_value=0)\n",
    "\n",
    "# create testset\n",
    "test_data_pivot = test_data.pivot_table(index='user_id', columns='item_id', values='rating', fill_value=0)\\\n",
    "    .reindex(sorted(df.user_id.unique()), axis=0, fill_value=0)\\\n",
    "    .reindex(sorted(df.item_id.unique()), axis=1, fill_value=0)\n",
    "\n",
    "(train_data_pivot.shape, test_data_pivot.shape)"
   ]
  },
  {
   "cell_type": "code",
   "execution_count": 39,
   "metadata": {},
   "outputs": [
    {
     "output_type": "execute_result",
     "data": {
      "text/plain": "((6040, 6040), (3706, 3706))"
     },
     "metadata": {},
     "execution_count": 39
    }
   ],
   "source": [
    "from sklearn.metrics.pairwise import pairwise_distances\n",
    "\n",
    "user_similarity = pairwise_distances(train_data_pivot, metric=\"cosine\")\n",
    "item_similarity = pairwise_distances(train_data_pivot.transpose(), metric=\"cosine\")\n",
    "\n",
    "(user_similarity.shape, item_similarity.shape)"
   ]
  },
  {
   "cell_type": "code",
   "execution_count": 40,
   "metadata": {},
   "outputs": [
    {
     "output_type": "execute_result",
     "data": {
      "text/plain": "             0         1         2         3         4         5         6     \\\nuser_id                                                                         \n1        1.002642  0.206215  0.112557 -0.019123  0.034155  0.404822  0.120747   \n2        1.078713  0.262279  0.169107  0.038949  0.091531  0.438871  0.175861   \n3        1.017694  0.203684  0.110913 -0.019761  0.033410  0.395198  0.121196   \n4        1.017603  0.183576  0.091289 -0.042910  0.012017  0.367641  0.102406   \n5        1.108642  0.294011  0.197812  0.064475  0.119678  0.463480  0.206202   \n...           ...       ...       ...       ...       ...       ...       ...   \n6036     1.591255  0.794615  0.708229  0.577857  0.630858  0.968604  0.712050   \n6037     1.142457  0.334627  0.241238  0.106446  0.162063  0.508848  0.248443   \n6038     1.005387  0.180066  0.080673 -0.052523  0.002306  0.374701  0.089211   \n6039     1.089589  0.273752  0.178004  0.045536  0.099671  0.471960  0.184310   \n6040     1.238552  0.433208  0.340315  0.205669  0.261482  0.609897  0.346522   \n\n             7         8         9     ...      3696      3697      3698  \\\nuser_id                                ...                                 \n1       -0.051881 -0.041597  0.313946  ... -0.041129 -0.077683 -0.070110   \n2        0.008327  0.015032  0.351915  ...  0.018238 -0.018119 -0.010026   \n3       -0.052141 -0.043922  0.302484  ... -0.042353 -0.078878 -0.071178   \n4       -0.076547 -0.068651  0.281234  ... -0.066537 -0.103698 -0.095722   \n5        0.034506  0.042494  0.391615  ...  0.042345  0.007560  0.015574   \n...           ...       ...       ...  ...       ...       ...       ...   \n6036     0.549401  0.557306  0.891938  ...  0.557676  0.523757  0.531642   \n6037     0.074464  0.083501  0.435390  ...  0.082795  0.047567  0.055899   \n6038    -0.084444 -0.075364  0.285119  ... -0.074951 -0.111642 -0.103657   \n6039     0.013213  0.023220  0.380776  ...  0.022366 -0.013416 -0.005447   \n6040     0.174821  0.183893  0.534802  ...  0.182586  0.148027  0.156254   \n\n             3699      3700      3701      3702      3703      3704      3705  \nuser_id                                                                        \n1       -0.048480 -0.049632  0.338199  0.078069 -0.052307 -0.056598  0.112096  \n2        0.010145  0.008772  0.395114  0.135859  0.006755  0.003172  0.169104  \n3       -0.050123 -0.051331  0.338138  0.077748 -0.053591 -0.057256  0.112579  \n4       -0.074491 -0.076166  0.320990  0.053779 -0.078000 -0.082059  0.089647  \n5        0.035994  0.034396  0.416835  0.154560  0.031665  0.027584  0.190564  \n...           ...       ...       ...       ...       ...       ...       ...  \n6036     0.552034  0.549247  0.929194  0.668114  0.546607  0.543705  0.703961  \n6037     0.076823  0.073291  0.464699  0.197405  0.071419  0.068408  0.232607  \n6038    -0.082438 -0.084231  0.309387  0.045123 -0.085914 -0.090503  0.079536  \n6039     0.016101  0.012854  0.407541  0.142030  0.011571  0.007651  0.177031  \n6040     0.177035  0.173598  0.562019  0.294777  0.171624  0.168244  0.331132  \n\n[6040 rows x 3706 columns]",
      "text/html": "<div>\n<style scoped>\n    .dataframe tbody tr th:only-of-type {\n        vertical-align: middle;\n    }\n\n    .dataframe tbody tr th {\n        vertical-align: top;\n    }\n\n    .dataframe thead th {\n        text-align: right;\n    }\n</style>\n<table border=\"1\" class=\"dataframe\">\n  <thead>\n    <tr style=\"text-align: right;\">\n      <th></th>\n      <th>0</th>\n      <th>1</th>\n      <th>2</th>\n      <th>3</th>\n      <th>4</th>\n      <th>5</th>\n      <th>6</th>\n      <th>7</th>\n      <th>8</th>\n      <th>9</th>\n      <th>...</th>\n      <th>3696</th>\n      <th>3697</th>\n      <th>3698</th>\n      <th>3699</th>\n      <th>3700</th>\n      <th>3701</th>\n      <th>3702</th>\n      <th>3703</th>\n      <th>3704</th>\n      <th>3705</th>\n    </tr>\n    <tr>\n      <th>user_id</th>\n      <th></th>\n      <th></th>\n      <th></th>\n      <th></th>\n      <th></th>\n      <th></th>\n      <th></th>\n      <th></th>\n      <th></th>\n      <th></th>\n      <th></th>\n      <th></th>\n      <th></th>\n      <th></th>\n      <th></th>\n      <th></th>\n      <th></th>\n      <th></th>\n      <th></th>\n      <th></th>\n      <th></th>\n    </tr>\n  </thead>\n  <tbody>\n    <tr>\n      <th>1</th>\n      <td>1.002642</td>\n      <td>0.206215</td>\n      <td>0.112557</td>\n      <td>-0.019123</td>\n      <td>0.034155</td>\n      <td>0.404822</td>\n      <td>0.120747</td>\n      <td>-0.051881</td>\n      <td>-0.041597</td>\n      <td>0.313946</td>\n      <td>...</td>\n      <td>-0.041129</td>\n      <td>-0.077683</td>\n      <td>-0.070110</td>\n      <td>-0.048480</td>\n      <td>-0.049632</td>\n      <td>0.338199</td>\n      <td>0.078069</td>\n      <td>-0.052307</td>\n      <td>-0.056598</td>\n      <td>0.112096</td>\n    </tr>\n    <tr>\n      <th>2</th>\n      <td>1.078713</td>\n      <td>0.262279</td>\n      <td>0.169107</td>\n      <td>0.038949</td>\n      <td>0.091531</td>\n      <td>0.438871</td>\n      <td>0.175861</td>\n      <td>0.008327</td>\n      <td>0.015032</td>\n      <td>0.351915</td>\n      <td>...</td>\n      <td>0.018238</td>\n      <td>-0.018119</td>\n      <td>-0.010026</td>\n      <td>0.010145</td>\n      <td>0.008772</td>\n      <td>0.395114</td>\n      <td>0.135859</td>\n      <td>0.006755</td>\n      <td>0.003172</td>\n      <td>0.169104</td>\n    </tr>\n    <tr>\n      <th>3</th>\n      <td>1.017694</td>\n      <td>0.203684</td>\n      <td>0.110913</td>\n      <td>-0.019761</td>\n      <td>0.033410</td>\n      <td>0.395198</td>\n      <td>0.121196</td>\n      <td>-0.052141</td>\n      <td>-0.043922</td>\n      <td>0.302484</td>\n      <td>...</td>\n      <td>-0.042353</td>\n      <td>-0.078878</td>\n      <td>-0.071178</td>\n      <td>-0.050123</td>\n      <td>-0.051331</td>\n      <td>0.338138</td>\n      <td>0.077748</td>\n      <td>-0.053591</td>\n      <td>-0.057256</td>\n      <td>0.112579</td>\n    </tr>\n    <tr>\n      <th>4</th>\n      <td>1.017603</td>\n      <td>0.183576</td>\n      <td>0.091289</td>\n      <td>-0.042910</td>\n      <td>0.012017</td>\n      <td>0.367641</td>\n      <td>0.102406</td>\n      <td>-0.076547</td>\n      <td>-0.068651</td>\n      <td>0.281234</td>\n      <td>...</td>\n      <td>-0.066537</td>\n      <td>-0.103698</td>\n      <td>-0.095722</td>\n      <td>-0.074491</td>\n      <td>-0.076166</td>\n      <td>0.320990</td>\n      <td>0.053779</td>\n      <td>-0.078000</td>\n      <td>-0.082059</td>\n      <td>0.089647</td>\n    </tr>\n    <tr>\n      <th>5</th>\n      <td>1.108642</td>\n      <td>0.294011</td>\n      <td>0.197812</td>\n      <td>0.064475</td>\n      <td>0.119678</td>\n      <td>0.463480</td>\n      <td>0.206202</td>\n      <td>0.034506</td>\n      <td>0.042494</td>\n      <td>0.391615</td>\n      <td>...</td>\n      <td>0.042345</td>\n      <td>0.007560</td>\n      <td>0.015574</td>\n      <td>0.035994</td>\n      <td>0.034396</td>\n      <td>0.416835</td>\n      <td>0.154560</td>\n      <td>0.031665</td>\n      <td>0.027584</td>\n      <td>0.190564</td>\n    </tr>\n    <tr>\n      <th>...</th>\n      <td>...</td>\n      <td>...</td>\n      <td>...</td>\n      <td>...</td>\n      <td>...</td>\n      <td>...</td>\n      <td>...</td>\n      <td>...</td>\n      <td>...</td>\n      <td>...</td>\n      <td>...</td>\n      <td>...</td>\n      <td>...</td>\n      <td>...</td>\n      <td>...</td>\n      <td>...</td>\n      <td>...</td>\n      <td>...</td>\n      <td>...</td>\n      <td>...</td>\n      <td>...</td>\n    </tr>\n    <tr>\n      <th>6036</th>\n      <td>1.591255</td>\n      <td>0.794615</td>\n      <td>0.708229</td>\n      <td>0.577857</td>\n      <td>0.630858</td>\n      <td>0.968604</td>\n      <td>0.712050</td>\n      <td>0.549401</td>\n      <td>0.557306</td>\n      <td>0.891938</td>\n      <td>...</td>\n      <td>0.557676</td>\n      <td>0.523757</td>\n      <td>0.531642</td>\n      <td>0.552034</td>\n      <td>0.549247</td>\n      <td>0.929194</td>\n      <td>0.668114</td>\n      <td>0.546607</td>\n      <td>0.543705</td>\n      <td>0.703961</td>\n    </tr>\n    <tr>\n      <th>6037</th>\n      <td>1.142457</td>\n      <td>0.334627</td>\n      <td>0.241238</td>\n      <td>0.106446</td>\n      <td>0.162063</td>\n      <td>0.508848</td>\n      <td>0.248443</td>\n      <td>0.074464</td>\n      <td>0.083501</td>\n      <td>0.435390</td>\n      <td>...</td>\n      <td>0.082795</td>\n      <td>0.047567</td>\n      <td>0.055899</td>\n      <td>0.076823</td>\n      <td>0.073291</td>\n      <td>0.464699</td>\n      <td>0.197405</td>\n      <td>0.071419</td>\n      <td>0.068408</td>\n      <td>0.232607</td>\n    </tr>\n    <tr>\n      <th>6038</th>\n      <td>1.005387</td>\n      <td>0.180066</td>\n      <td>0.080673</td>\n      <td>-0.052523</td>\n      <td>0.002306</td>\n      <td>0.374701</td>\n      <td>0.089211</td>\n      <td>-0.084444</td>\n      <td>-0.075364</td>\n      <td>0.285119</td>\n      <td>...</td>\n      <td>-0.074951</td>\n      <td>-0.111642</td>\n      <td>-0.103657</td>\n      <td>-0.082438</td>\n      <td>-0.084231</td>\n      <td>0.309387</td>\n      <td>0.045123</td>\n      <td>-0.085914</td>\n      <td>-0.090503</td>\n      <td>0.079536</td>\n    </tr>\n    <tr>\n      <th>6039</th>\n      <td>1.089589</td>\n      <td>0.273752</td>\n      <td>0.178004</td>\n      <td>0.045536</td>\n      <td>0.099671</td>\n      <td>0.471960</td>\n      <td>0.184310</td>\n      <td>0.013213</td>\n      <td>0.023220</td>\n      <td>0.380776</td>\n      <td>...</td>\n      <td>0.022366</td>\n      <td>-0.013416</td>\n      <td>-0.005447</td>\n      <td>0.016101</td>\n      <td>0.012854</td>\n      <td>0.407541</td>\n      <td>0.142030</td>\n      <td>0.011571</td>\n      <td>0.007651</td>\n      <td>0.177031</td>\n    </tr>\n    <tr>\n      <th>6040</th>\n      <td>1.238552</td>\n      <td>0.433208</td>\n      <td>0.340315</td>\n      <td>0.205669</td>\n      <td>0.261482</td>\n      <td>0.609897</td>\n      <td>0.346522</td>\n      <td>0.174821</td>\n      <td>0.183893</td>\n      <td>0.534802</td>\n      <td>...</td>\n      <td>0.182586</td>\n      <td>0.148027</td>\n      <td>0.156254</td>\n      <td>0.177035</td>\n      <td>0.173598</td>\n      <td>0.562019</td>\n      <td>0.294777</td>\n      <td>0.171624</td>\n      <td>0.168244</td>\n      <td>0.331132</td>\n    </tr>\n  </tbody>\n</table>\n<p>6040 rows × 3706 columns</p>\n</div>"
     },
     "metadata": {},
     "execution_count": 40
    }
   ],
   "source": [
    "def predict_user(ratings, similarity):\n",
    "    mean_user_rating = ratings.mean(axis=1)\n",
    "    rating_diff = (ratings - mean_user_rating[:, np.newaxis])\n",
    "    df = pd.DataFrame(mean_user_rating[:, np.newaxis] + similarity.dot(rating_diff) / np.array([np.abs(similarity).sum(axis=1)]).T)\n",
    "    df.index = np.arange(1, len(df) + 1)\n",
    "    df.index.name=\"user_id\"\n",
    "    return df\n",
    "\n",
    "user_prediction = predict_user(train_data_pivot, user_similarity)\n",
    "user_prediction"
   ]
  },
  {
   "cell_type": "code",
   "execution_count": 41,
   "metadata": {},
   "outputs": [
    {
     "output_type": "execute_result",
     "data": {
      "text/plain": "             0         1         2         3         4         5         6     \\\nuser_id                                                                         \n1        0.035411  0.040733  0.043054  0.044247  0.043156  0.041721  0.041928   \n2        0.086217  0.093044  0.096726  0.099126  0.097277  0.088262  0.094525   \n3        0.033904  0.037885  0.040331  0.042490  0.041082  0.037115  0.040076   \n4        0.016184  0.018191  0.019730  0.020731  0.020050  0.016727  0.019738   \n5        0.114827  0.123525  0.125861  0.125448  0.126905  0.115263  0.124160   \n...           ...       ...       ...       ...       ...       ...       ...   \n6036     0.579550  0.607014  0.621907  0.622420  0.624545  0.592716  0.612757   \n6037     0.141991  0.156029  0.161227  0.164112  0.162854  0.148085  0.159029   \n6038     0.011867  0.013260  0.013526  0.013569  0.013664  0.013083  0.013054   \n6039     0.095141  0.103236  0.105370  0.107503  0.106250  0.103960  0.103007   \n6040     0.235684  0.254885  0.261133  0.262014  0.263270  0.243622  0.257336   \n\n             7         8         9     ...      3696      3697      3698  \\\nuser_id                                ...                                 \n1        0.044431  0.045592  0.041080  ...  0.045565  0.046251  0.045554   \n2        0.101057  0.098590  0.088348  ...  0.101470  0.102755  0.103498   \n3        0.043197  0.042176  0.036391  ...  0.043368  0.044750  0.043847   \n4        0.020680  0.020101  0.016979  ...  0.020614  0.021194  0.021020   \n5        0.128696  0.128069  0.120559  ...  0.125751  0.129297  0.129764   \n...           ...       ...       ...  ...       ...       ...       ...   \n6036     0.631540  0.632545  0.601432  ...  0.628650  0.636794  0.639259   \n6037     0.165316  0.165286  0.153177  ...  0.163075  0.166286  0.167789   \n6038     0.013886  0.014062  0.013164  ...  0.013723  0.013987  0.014041   \n6039     0.107690  0.109712  0.103336  ...  0.107032  0.107399  0.108885   \n6040     0.264852  0.266166  0.251593  ...  0.259523  0.265866  0.267881   \n\n             3699      3700      3701      3702      3703      3704      3705  \nuser_id                                                                        \n1        0.046009  0.046658  0.041726  0.044150  0.045633  0.046185  0.043674  \n2        0.101662  0.101807  0.094419  0.098569  0.101315  0.103391  0.096988  \n3        0.043419  0.043942  0.039259  0.042100  0.043449  0.044668  0.041535  \n4        0.020794  0.020658  0.018871  0.019801  0.020690  0.021262  0.019699  \n5        0.128158  0.128511  0.119860  0.120420  0.126444  0.127414  0.121369  \n...           ...       ...       ...       ...       ...       ...       ...  \n6036     0.635822  0.631277  0.608334  0.615461  0.628694  0.635108  0.614014  \n6037     0.166054  0.162781  0.155162  0.158311  0.163092  0.166576  0.157185  \n6038     0.014008  0.013853  0.013179  0.013401  0.013824  0.013980  0.013308  \n6039     0.109314  0.106618  0.103985  0.106206  0.107359  0.109228  0.105600  \n6040     0.265376  0.260991  0.250902  0.252106  0.261280  0.263398  0.252485  \n\n[6040 rows x 3706 columns]",
      "text/html": "<div>\n<style scoped>\n    .dataframe tbody tr th:only-of-type {\n        vertical-align: middle;\n    }\n\n    .dataframe tbody tr th {\n        vertical-align: top;\n    }\n\n    .dataframe thead th {\n        text-align: right;\n    }\n</style>\n<table border=\"1\" class=\"dataframe\">\n  <thead>\n    <tr style=\"text-align: right;\">\n      <th></th>\n      <th>0</th>\n      <th>1</th>\n      <th>2</th>\n      <th>3</th>\n      <th>4</th>\n      <th>5</th>\n      <th>6</th>\n      <th>7</th>\n      <th>8</th>\n      <th>9</th>\n      <th>...</th>\n      <th>3696</th>\n      <th>3697</th>\n      <th>3698</th>\n      <th>3699</th>\n      <th>3700</th>\n      <th>3701</th>\n      <th>3702</th>\n      <th>3703</th>\n      <th>3704</th>\n      <th>3705</th>\n    </tr>\n    <tr>\n      <th>user_id</th>\n      <th></th>\n      <th></th>\n      <th></th>\n      <th></th>\n      <th></th>\n      <th></th>\n      <th></th>\n      <th></th>\n      <th></th>\n      <th></th>\n      <th></th>\n      <th></th>\n      <th></th>\n      <th></th>\n      <th></th>\n      <th></th>\n      <th></th>\n      <th></th>\n      <th></th>\n      <th></th>\n      <th></th>\n    </tr>\n  </thead>\n  <tbody>\n    <tr>\n      <th>1</th>\n      <td>0.035411</td>\n      <td>0.040733</td>\n      <td>0.043054</td>\n      <td>0.044247</td>\n      <td>0.043156</td>\n      <td>0.041721</td>\n      <td>0.041928</td>\n      <td>0.044431</td>\n      <td>0.045592</td>\n      <td>0.041080</td>\n      <td>...</td>\n      <td>0.045565</td>\n      <td>0.046251</td>\n      <td>0.045554</td>\n      <td>0.046009</td>\n      <td>0.046658</td>\n      <td>0.041726</td>\n      <td>0.044150</td>\n      <td>0.045633</td>\n      <td>0.046185</td>\n      <td>0.043674</td>\n    </tr>\n    <tr>\n      <th>2</th>\n      <td>0.086217</td>\n      <td>0.093044</td>\n      <td>0.096726</td>\n      <td>0.099126</td>\n      <td>0.097277</td>\n      <td>0.088262</td>\n      <td>0.094525</td>\n      <td>0.101057</td>\n      <td>0.098590</td>\n      <td>0.088348</td>\n      <td>...</td>\n      <td>0.101470</td>\n      <td>0.102755</td>\n      <td>0.103498</td>\n      <td>0.101662</td>\n      <td>0.101807</td>\n      <td>0.094419</td>\n      <td>0.098569</td>\n      <td>0.101315</td>\n      <td>0.103391</td>\n      <td>0.096988</td>\n    </tr>\n    <tr>\n      <th>3</th>\n      <td>0.033904</td>\n      <td>0.037885</td>\n      <td>0.040331</td>\n      <td>0.042490</td>\n      <td>0.041082</td>\n      <td>0.037115</td>\n      <td>0.040076</td>\n      <td>0.043197</td>\n      <td>0.042176</td>\n      <td>0.036391</td>\n      <td>...</td>\n      <td>0.043368</td>\n      <td>0.044750</td>\n      <td>0.043847</td>\n      <td>0.043419</td>\n      <td>0.043942</td>\n      <td>0.039259</td>\n      <td>0.042100</td>\n      <td>0.043449</td>\n      <td>0.044668</td>\n      <td>0.041535</td>\n    </tr>\n    <tr>\n      <th>4</th>\n      <td>0.016184</td>\n      <td>0.018191</td>\n      <td>0.019730</td>\n      <td>0.020731</td>\n      <td>0.020050</td>\n      <td>0.016727</td>\n      <td>0.019738</td>\n      <td>0.020680</td>\n      <td>0.020101</td>\n      <td>0.016979</td>\n      <td>...</td>\n      <td>0.020614</td>\n      <td>0.021194</td>\n      <td>0.021020</td>\n      <td>0.020794</td>\n      <td>0.020658</td>\n      <td>0.018871</td>\n      <td>0.019801</td>\n      <td>0.020690</td>\n      <td>0.021262</td>\n      <td>0.019699</td>\n    </tr>\n    <tr>\n      <th>5</th>\n      <td>0.114827</td>\n      <td>0.123525</td>\n      <td>0.125861</td>\n      <td>0.125448</td>\n      <td>0.126905</td>\n      <td>0.115263</td>\n      <td>0.124160</td>\n      <td>0.128696</td>\n      <td>0.128069</td>\n      <td>0.120559</td>\n      <td>...</td>\n      <td>0.125751</td>\n      <td>0.129297</td>\n      <td>0.129764</td>\n      <td>0.128158</td>\n      <td>0.128511</td>\n      <td>0.119860</td>\n      <td>0.120420</td>\n      <td>0.126444</td>\n      <td>0.127414</td>\n      <td>0.121369</td>\n    </tr>\n    <tr>\n      <th>...</th>\n      <td>...</td>\n      <td>...</td>\n      <td>...</td>\n      <td>...</td>\n      <td>...</td>\n      <td>...</td>\n      <td>...</td>\n      <td>...</td>\n      <td>...</td>\n      <td>...</td>\n      <td>...</td>\n      <td>...</td>\n      <td>...</td>\n      <td>...</td>\n      <td>...</td>\n      <td>...</td>\n      <td>...</td>\n      <td>...</td>\n      <td>...</td>\n      <td>...</td>\n      <td>...</td>\n    </tr>\n    <tr>\n      <th>6036</th>\n      <td>0.579550</td>\n      <td>0.607014</td>\n      <td>0.621907</td>\n      <td>0.622420</td>\n      <td>0.624545</td>\n      <td>0.592716</td>\n      <td>0.612757</td>\n      <td>0.631540</td>\n      <td>0.632545</td>\n      <td>0.601432</td>\n      <td>...</td>\n      <td>0.628650</td>\n      <td>0.636794</td>\n      <td>0.639259</td>\n      <td>0.635822</td>\n      <td>0.631277</td>\n      <td>0.608334</td>\n      <td>0.615461</td>\n      <td>0.628694</td>\n      <td>0.635108</td>\n      <td>0.614014</td>\n    </tr>\n    <tr>\n      <th>6037</th>\n      <td>0.141991</td>\n      <td>0.156029</td>\n      <td>0.161227</td>\n      <td>0.164112</td>\n      <td>0.162854</td>\n      <td>0.148085</td>\n      <td>0.159029</td>\n      <td>0.165316</td>\n      <td>0.165286</td>\n      <td>0.153177</td>\n      <td>...</td>\n      <td>0.163075</td>\n      <td>0.166286</td>\n      <td>0.167789</td>\n      <td>0.166054</td>\n      <td>0.162781</td>\n      <td>0.155162</td>\n      <td>0.158311</td>\n      <td>0.163092</td>\n      <td>0.166576</td>\n      <td>0.157185</td>\n    </tr>\n    <tr>\n      <th>6038</th>\n      <td>0.011867</td>\n      <td>0.013260</td>\n      <td>0.013526</td>\n      <td>0.013569</td>\n      <td>0.013664</td>\n      <td>0.013083</td>\n      <td>0.013054</td>\n      <td>0.013886</td>\n      <td>0.014062</td>\n      <td>0.013164</td>\n      <td>...</td>\n      <td>0.013723</td>\n      <td>0.013987</td>\n      <td>0.014041</td>\n      <td>0.014008</td>\n      <td>0.013853</td>\n      <td>0.013179</td>\n      <td>0.013401</td>\n      <td>0.013824</td>\n      <td>0.013980</td>\n      <td>0.013308</td>\n    </tr>\n    <tr>\n      <th>6039</th>\n      <td>0.095141</td>\n      <td>0.103236</td>\n      <td>0.105370</td>\n      <td>0.107503</td>\n      <td>0.106250</td>\n      <td>0.103960</td>\n      <td>0.103007</td>\n      <td>0.107690</td>\n      <td>0.109712</td>\n      <td>0.103336</td>\n      <td>...</td>\n      <td>0.107032</td>\n      <td>0.107399</td>\n      <td>0.108885</td>\n      <td>0.109314</td>\n      <td>0.106618</td>\n      <td>0.103985</td>\n      <td>0.106206</td>\n      <td>0.107359</td>\n      <td>0.109228</td>\n      <td>0.105600</td>\n    </tr>\n    <tr>\n      <th>6040</th>\n      <td>0.235684</td>\n      <td>0.254885</td>\n      <td>0.261133</td>\n      <td>0.262014</td>\n      <td>0.263270</td>\n      <td>0.243622</td>\n      <td>0.257336</td>\n      <td>0.264852</td>\n      <td>0.266166</td>\n      <td>0.251593</td>\n      <td>...</td>\n      <td>0.259523</td>\n      <td>0.265866</td>\n      <td>0.267881</td>\n      <td>0.265376</td>\n      <td>0.260991</td>\n      <td>0.250902</td>\n      <td>0.252106</td>\n      <td>0.261280</td>\n      <td>0.263398</td>\n      <td>0.252485</td>\n    </tr>\n  </tbody>\n</table>\n<p>6040 rows × 3706 columns</p>\n</div>"
     },
     "metadata": {},
     "execution_count": 41
    }
   ],
   "source": [
    "def predict_item(ratings, similarity):\n",
    "    return ratings.dot(similarity) / np.array([np.abs(similarity).sum(axis=1)])\n",
    "\n",
    "item_prediction = predict_item(train_data_pivot, item_similarity)\n",
    "item_prediction"
   ]
  },
  {
   "cell_type": "code",
   "execution_count": 42,
   "metadata": {},
   "outputs": [
    {
     "output_type": "execute_result",
     "data": {
      "text/plain": "{'user_prediction_rmse': 3.2186276896192383,\n 'item_prediction_rmse': 3.510667832769373}"
     },
     "metadata": {},
     "execution_count": 42
    }
   ],
   "source": [
    "from sklearn.metrics import mean_squared_error\n",
    "from math import sqrt\n",
    "\n",
    "def rmse(predicion, groud_truth):\n",
    "    groud_truth = groud_truth.values.flatten()\n",
    "    s = groud_truth != 0\n",
    "    groud_truth = groud_truth[s]\n",
    "    predicion = predicion.values.flatten()\n",
    "    predicion = predicion[s]\n",
    "    \n",
    "    return sqrt(mean_squared_error(predicion, groud_truth))\n",
    "\n",
    "{'user_prediction_rmse': rmse(user_prediction, test_data_pivot), 'item_prediction_rmse':  rmse(item_prediction, test_data_pivot)}"
   ]
  }
 ]
}